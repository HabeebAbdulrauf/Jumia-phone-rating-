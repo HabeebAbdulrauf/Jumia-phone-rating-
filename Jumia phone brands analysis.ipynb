{
 "cells": [
  {
   "cell_type": "code",
   "execution_count": 4,
   "metadata": {},
   "outputs": [],
   "source": [
    "import pandas as pd\n",
    "\n",
    "import numpy as np\n",
    "\n"
   ]
  },
  {
   "cell_type": "markdown",
   "metadata": {},
   "source": [
    "# find  a best phone in term of price and review \n",
    "\n"
   ]
  },
  {
   "cell_type": "code",
   "execution_count": 100,
   "metadata": {},
   "outputs": [],
   "source": [
    "Jumia = pd.read_csv(r\"C:\\Users\\User\\Desktop\\AI AND DATA SCIENCE BOOTCAMP\\DATA SCIENCE\\Jumia_clean Project work.csv\")"
   ]
  },
  {
   "cell_type": "code",
   "execution_count": 59,
   "metadata": {
    "scrolled": false
   },
   "outputs": [
    {
     "data": {
      "text/plain": [
       "Index(['brand', 'current_price', 'old_price', 'discount', 'description',\n",
       "       'ratings', 'times_reviewed', 'rom', 'ram', 'battery', 'camera',\n",
       "       'sim port', 'screen_dim', 'android_ver'],\n",
       "      dtype='object')"
      ]
     },
     "execution_count": 59,
     "metadata": {},
     "output_type": "execute_result"
    }
   ],
   "source": [
    "Jumia.columns"
   ]
  },
  {
   "cell_type": "code",
   "execution_count": 81,
   "metadata": {},
   "outputs": [
    {
     "data": {
      "text/plain": [
       "100000    6\n",
       "29999     6\n",
       "59900     5\n",
       "69000     5\n",
       "69999     5\n",
       "         ..\n",
       "95629     1\n",
       "8000      1\n",
       "63810     1\n",
       "154000    1\n",
       "24099     1\n",
       "Name: current_price, Length: 354, dtype: int64"
      ]
     },
     "execution_count": 81,
     "metadata": {},
     "output_type": "execute_result"
    }
   ],
   "source": [
    "Jumia.current_price.value_counts()\n"
   ]
  },
  {
   "cell_type": "code",
   "execution_count": 35,
   "metadata": {},
   "outputs": [
    {
     "data": {
      "text/plain": [
       "Samsung          71\n",
       "Gionee           56\n",
       "Nokia            46\n",
       "Huawei           36\n",
       "Tecno            33\n",
       "XIAOMI           30\n",
       "Infinix          23\n",
       "Itel             20\n",
       "LG               20\n",
       "Blackview        19\n",
       "Oukitel          16\n",
       "Lenovo           11\n",
       "Letv             11\n",
       "Cubot            10\n",
       "Oppo             10\n",
       "Leagoo            9\n",
       "UMIDIGI           9\n",
       "Doogee            9\n",
       "Ulefone           7\n",
       "Sony              5\n",
       "Motorola          4\n",
       "Vernee            4\n",
       "Fero              4\n",
       "Elephone          3\n",
       "Asus              3\n",
       "Homtom            3\n",
       "Htc               3\n",
       "Hoot              2\n",
       "Honor             2\n",
       "Sharp             2\n",
       "Nomu              2\n",
       "Gome              2\n",
       "Arashi            1\n",
       "Kismo             1\n",
       "Sailf             1\n",
       "AfriOne           1\n",
       "Leeco             1\n",
       "Letv Leeco        1\n",
       "Blackberry        1\n",
       "SOYES             1\n",
       "Leagoo Lead 7     1\n",
       "ZTE               1\n",
       "Elite             1\n",
       "Desire            1\n",
       "M Horse           1\n",
       "Partner           1\n",
       "Cool Pad          1\n",
       "Oneplus           1\n",
       "Hisense           1\n",
       "Alcatel           1\n",
       "Bontel            1\n",
       "Jodom             1\n",
       "Swiss             1\n",
       "Unicorn           1\n",
       "Melrose           1\n",
       "Name: brand, dtype: int64"
      ]
     },
     "execution_count": 35,
     "metadata": {},
     "output_type": "execute_result"
    }
   ],
   "source": [
    "Jumia.brand.value_counts()"
   ]
  },
  {
   "cell_type": "code",
   "execution_count": 40,
   "metadata": {},
   "outputs": [
    {
     "data": {
      "text/plain": [
       "5400"
      ]
     },
     "execution_count": 40,
     "metadata": {},
     "output_type": "execute_result"
    }
   ],
   "source": [
    "Jumia.current_price.min()"
   ]
  },
  {
   "cell_type": "code",
   "execution_count": 42,
   "metadata": {},
   "outputs": [
    {
     "data": {
      "text/plain": [
       "1000000"
      ]
     },
     "execution_count": 42,
     "metadata": {},
     "output_type": "execute_result"
    }
   ],
   "source": [
    "Jumia.current_price.max()"
   ]
  },
  {
   "cell_type": "code",
   "execution_count": 45,
   "metadata": {},
   "outputs": [
    {
     "data": {
      "text/plain": [
       "52450.0"
      ]
     },
     "execution_count": 45,
     "metadata": {},
     "output_type": "execute_result"
    }
   ],
   "source": [
    "Jumia.current_price.median()"
   ]
  },
  {
   "cell_type": "code",
   "execution_count": 49,
   "metadata": {},
   "outputs": [
    {
     "data": {
      "text/plain": [
       "73212.38582677166"
      ]
     },
     "execution_count": 49,
     "metadata": {},
     "output_type": "execute_result"
    }
   ],
   "source": [
    "Jumia.current_price.mean()"
   ]
  },
  {
   "cell_type": "code",
   "execution_count": 118,
   "metadata": {},
   "outputs": [],
   "source": [
    "Phone_less_than_avearage = Jumia[Jumia.current_price <  73212.4]\n",
    "\n",
    "# Phone_less_than_avearage.info()"
   ]
  },
  {
   "cell_type": "code",
   "execution_count": 119,
   "metadata": {},
   "outputs": [
    {
     "data": {
      "text/html": [
       "<div>\n",
       "<style scoped>\n",
       "    .dataframe tbody tr th:only-of-type {\n",
       "        vertical-align: middle;\n",
       "    }\n",
       "\n",
       "    .dataframe tbody tr th {\n",
       "        vertical-align: top;\n",
       "    }\n",
       "\n",
       "    .dataframe thead th {\n",
       "        text-align: right;\n",
       "    }\n",
       "</style>\n",
       "<table border=\"1\" class=\"dataframe\">\n",
       "  <thead>\n",
       "    <tr style=\"text-align: right;\">\n",
       "      <th></th>\n",
       "      <th>brand</th>\n",
       "      <th>current_price</th>\n",
       "      <th>old_price</th>\n",
       "      <th>discount</th>\n",
       "      <th>description</th>\n",
       "      <th>ratings</th>\n",
       "      <th>times_reviewed</th>\n",
       "      <th>rom</th>\n",
       "      <th>ram</th>\n",
       "      <th>battery</th>\n",
       "      <th>camera</th>\n",
       "      <th>sim port</th>\n",
       "      <th>screen_dim</th>\n",
       "      <th>android_ver</th>\n",
       "    </tr>\n",
       "  </thead>\n",
       "  <tbody>\n",
       "    <tr>\n",
       "      <th>0</th>\n",
       "      <td>Gionee</td>\n",
       "      <td>48000</td>\n",
       "      <td>73630</td>\n",
       "      <td>-35</td>\n",
       "      <td>Gionee K3 (M100) 4GB+64GB 6.22 Inch HD+ Androi...</td>\n",
       "      <td>3.50</td>\n",
       "      <td>10</td>\n",
       "      <td>64.0</td>\n",
       "      <td>4.0</td>\n",
       "      <td>5000.0</td>\n",
       "      <td>13.0</td>\n",
       "      <td>Dual SIM</td>\n",
       "      <td>6.22</td>\n",
       "      <td>8.1</td>\n",
       "    </tr>\n",
       "    <tr>\n",
       "      <th>1</th>\n",
       "      <td>Nokia</td>\n",
       "      <td>59520</td>\n",
       "      <td>119660</td>\n",
       "      <td>-50</td>\n",
       "      <td>7， 5.2-inch (4GB, 64GB ROM) Android 7.1, 16MP ...</td>\n",
       "      <td>3.80</td>\n",
       "      <td>10</td>\n",
       "      <td>64.0</td>\n",
       "      <td>4.0</td>\n",
       "      <td>3000.0</td>\n",
       "      <td>16.0</td>\n",
       "      <td>Dual Sim</td>\n",
       "      <td>5.20</td>\n",
       "      <td>7.1</td>\n",
       "    </tr>\n",
       "    <tr>\n",
       "      <th>2</th>\n",
       "      <td>UMIDIGI</td>\n",
       "      <td>25990</td>\n",
       "      <td>29990</td>\n",
       "      <td>-13</td>\n",
       "      <td>A3S Android 10 Global Band 3950mAh 5.7\" Smartp...</td>\n",
       "      <td>4.30</td>\n",
       "      <td>99</td>\n",
       "      <td>32.0</td>\n",
       "      <td>4.0</td>\n",
       "      <td>3950.0</td>\n",
       "      <td>13.0</td>\n",
       "      <td>Triple Slots</td>\n",
       "      <td>5.70</td>\n",
       "      <td>10.0</td>\n",
       "    </tr>\n",
       "    <tr>\n",
       "      <th>3</th>\n",
       "      <td>Nokia</td>\n",
       "      <td>42990</td>\n",
       "      <td>70485</td>\n",
       "      <td>-39</td>\n",
       "      <td>3.2 3GB RAM 32GB 6.26 Inch 13MP Camera Dual SI...</td>\n",
       "      <td>4.05</td>\n",
       "      <td>104</td>\n",
       "      <td>32.0</td>\n",
       "      <td>3.0</td>\n",
       "      <td>4000.0</td>\n",
       "      <td>13.0</td>\n",
       "      <td>Dual SIM</td>\n",
       "      <td>6.26</td>\n",
       "      <td>9.0</td>\n",
       "    </tr>\n",
       "    <tr>\n",
       "      <th>4</th>\n",
       "      <td>UMIDIGI</td>\n",
       "      <td>25990</td>\n",
       "      <td>29990</td>\n",
       "      <td>-13</td>\n",
       "      <td>A3S Android 10 Global Band 3950mAh 5.7\" Smartp...</td>\n",
       "      <td>3.90</td>\n",
       "      <td>148</td>\n",
       "      <td>32.0</td>\n",
       "      <td>4.0</td>\n",
       "      <td>3950.0</td>\n",
       "      <td>13.0</td>\n",
       "      <td>Triple Slots</td>\n",
       "      <td>5.70</td>\n",
       "      <td>10.0</td>\n",
       "    </tr>\n",
       "  </tbody>\n",
       "</table>\n",
       "</div>"
      ],
      "text/plain": [
       "     brand  current_price  old_price  discount  \\\n",
       "0   Gionee          48000      73630       -35   \n",
       "1    Nokia          59520     119660       -50   \n",
       "2  UMIDIGI          25990      29990       -13   \n",
       "3    Nokia          42990      70485       -39   \n",
       "4  UMIDIGI          25990      29990       -13   \n",
       "\n",
       "                                         description  ratings  times_reviewed  \\\n",
       "0  Gionee K3 (M100) 4GB+64GB 6.22 Inch HD+ Androi...     3.50              10   \n",
       "1  7， 5.2-inch (4GB, 64GB ROM) Android 7.1, 16MP ...     3.80              10   \n",
       "2  A3S Android 10 Global Band 3950mAh 5.7\" Smartp...     4.30              99   \n",
       "3  3.2 3GB RAM 32GB 6.26 Inch 13MP Camera Dual SI...     4.05             104   \n",
       "4  A3S Android 10 Global Band 3950mAh 5.7\" Smartp...     3.90             148   \n",
       "\n",
       "    rom  ram  battery  camera      sim port  screen_dim  android_ver  \n",
       "0  64.0  4.0   5000.0    13.0      Dual SIM        6.22          8.1  \n",
       "1  64.0  4.0   3000.0    16.0      Dual Sim        5.20          7.1  \n",
       "2  32.0  4.0   3950.0    13.0  Triple Slots        5.70         10.0  \n",
       "3  32.0  3.0   4000.0    13.0      Dual SIM        6.26          9.0  \n",
       "4  32.0  4.0   3950.0    13.0  Triple Slots        5.70         10.0  "
      ]
     },
     "execution_count": 119,
     "metadata": {},
     "output_type": "execute_result"
    }
   ],
   "source": [
    "Jumia.head()"
   ]
  },
  {
   "cell_type": "code",
   "execution_count": 120,
   "metadata": {},
   "outputs": [
    {
     "data": {
      "text/plain": [
       "<bound method IndexOpsMixin.value_counts of 0      48000\n",
       "1      59520\n",
       "2      25990\n",
       "3      42990\n",
       "4      25990\n",
       "       ...  \n",
       "503    63760\n",
       "504    63760\n",
       "505    23000\n",
       "506    20499\n",
       "507    29490\n",
       "Name: current_price, Length: 350, dtype: int64>"
      ]
     },
     "execution_count": 120,
     "metadata": {},
     "output_type": "execute_result"
    }
   ],
   "source": [
    "Phone_less_than_avearage.current_price.value_counts"
   ]
  },
  {
   "cell_type": "code",
   "execution_count": 121,
   "metadata": {},
   "outputs": [
    {
     "data": {
      "text/html": [
       "<div>\n",
       "<style scoped>\n",
       "    .dataframe tbody tr th:only-of-type {\n",
       "        vertical-align: middle;\n",
       "    }\n",
       "\n",
       "    .dataframe tbody tr th {\n",
       "        vertical-align: top;\n",
       "    }\n",
       "\n",
       "    .dataframe thead th {\n",
       "        text-align: right;\n",
       "    }\n",
       "</style>\n",
       "<table border=\"1\" class=\"dataframe\">\n",
       "  <thead>\n",
       "    <tr style=\"text-align: right;\">\n",
       "      <th></th>\n",
       "      <th>brand</th>\n",
       "      <th>current_price</th>\n",
       "      <th>old_price</th>\n",
       "      <th>discount</th>\n",
       "      <th>description</th>\n",
       "      <th>ratings</th>\n",
       "      <th>times_reviewed</th>\n",
       "      <th>rom</th>\n",
       "      <th>ram</th>\n",
       "      <th>battery</th>\n",
       "      <th>camera</th>\n",
       "      <th>sim port</th>\n",
       "      <th>screen_dim</th>\n",
       "      <th>android_ver</th>\n",
       "    </tr>\n",
       "  </thead>\n",
       "  <tbody>\n",
       "    <tr>\n",
       "      <th>0</th>\n",
       "      <td>Gionee</td>\n",
       "      <td>48000</td>\n",
       "      <td>73630</td>\n",
       "      <td>-35</td>\n",
       "      <td>Gionee K3 (M100) 4GB+64GB 6.22 Inch HD+ Androi...</td>\n",
       "      <td>3.50</td>\n",
       "      <td>10</td>\n",
       "      <td>64.0</td>\n",
       "      <td>4.0</td>\n",
       "      <td>5000.0</td>\n",
       "      <td>13.0</td>\n",
       "      <td>Dual SIM</td>\n",
       "      <td>6.22</td>\n",
       "      <td>8.1</td>\n",
       "    </tr>\n",
       "    <tr>\n",
       "      <th>1</th>\n",
       "      <td>Nokia</td>\n",
       "      <td>59520</td>\n",
       "      <td>119660</td>\n",
       "      <td>-50</td>\n",
       "      <td>7， 5.2-inch (4GB, 64GB ROM) Android 7.1, 16MP ...</td>\n",
       "      <td>3.80</td>\n",
       "      <td>10</td>\n",
       "      <td>64.0</td>\n",
       "      <td>4.0</td>\n",
       "      <td>3000.0</td>\n",
       "      <td>16.0</td>\n",
       "      <td>Dual Sim</td>\n",
       "      <td>5.20</td>\n",
       "      <td>7.1</td>\n",
       "    </tr>\n",
       "    <tr>\n",
       "      <th>2</th>\n",
       "      <td>UMIDIGI</td>\n",
       "      <td>25990</td>\n",
       "      <td>29990</td>\n",
       "      <td>-13</td>\n",
       "      <td>A3S Android 10 Global Band 3950mAh 5.7\" Smartp...</td>\n",
       "      <td>4.30</td>\n",
       "      <td>99</td>\n",
       "      <td>32.0</td>\n",
       "      <td>4.0</td>\n",
       "      <td>3950.0</td>\n",
       "      <td>13.0</td>\n",
       "      <td>Triple Slots</td>\n",
       "      <td>5.70</td>\n",
       "      <td>10.0</td>\n",
       "    </tr>\n",
       "    <tr>\n",
       "      <th>3</th>\n",
       "      <td>Nokia</td>\n",
       "      <td>42990</td>\n",
       "      <td>70485</td>\n",
       "      <td>-39</td>\n",
       "      <td>3.2 3GB RAM 32GB 6.26 Inch 13MP Camera Dual SI...</td>\n",
       "      <td>4.05</td>\n",
       "      <td>104</td>\n",
       "      <td>32.0</td>\n",
       "      <td>3.0</td>\n",
       "      <td>4000.0</td>\n",
       "      <td>13.0</td>\n",
       "      <td>Dual SIM</td>\n",
       "      <td>6.26</td>\n",
       "      <td>9.0</td>\n",
       "    </tr>\n",
       "    <tr>\n",
       "      <th>4</th>\n",
       "      <td>UMIDIGI</td>\n",
       "      <td>25990</td>\n",
       "      <td>29990</td>\n",
       "      <td>-13</td>\n",
       "      <td>A3S Android 10 Global Band 3950mAh 5.7\" Smartp...</td>\n",
       "      <td>3.90</td>\n",
       "      <td>148</td>\n",
       "      <td>32.0</td>\n",
       "      <td>4.0</td>\n",
       "      <td>3950.0</td>\n",
       "      <td>13.0</td>\n",
       "      <td>Triple Slots</td>\n",
       "      <td>5.70</td>\n",
       "      <td>10.0</td>\n",
       "    </tr>\n",
       "  </tbody>\n",
       "</table>\n",
       "</div>"
      ],
      "text/plain": [
       "     brand  current_price  old_price  discount  \\\n",
       "0   Gionee          48000      73630       -35   \n",
       "1    Nokia          59520     119660       -50   \n",
       "2  UMIDIGI          25990      29990       -13   \n",
       "3    Nokia          42990      70485       -39   \n",
       "4  UMIDIGI          25990      29990       -13   \n",
       "\n",
       "                                         description  ratings  times_reviewed  \\\n",
       "0  Gionee K3 (M100) 4GB+64GB 6.22 Inch HD+ Androi...     3.50              10   \n",
       "1  7， 5.2-inch (4GB, 64GB ROM) Android 7.1, 16MP ...     3.80              10   \n",
       "2  A3S Android 10 Global Band 3950mAh 5.7\" Smartp...     4.30              99   \n",
       "3  3.2 3GB RAM 32GB 6.26 Inch 13MP Camera Dual SI...     4.05             104   \n",
       "4  A3S Android 10 Global Band 3950mAh 5.7\" Smartp...     3.90             148   \n",
       "\n",
       "    rom  ram  battery  camera      sim port  screen_dim  android_ver  \n",
       "0  64.0  4.0   5000.0    13.0      Dual SIM        6.22          8.1  \n",
       "1  64.0  4.0   3000.0    16.0      Dual Sim        5.20          7.1  \n",
       "2  32.0  4.0   3950.0    13.0  Triple Slots        5.70         10.0  \n",
       "3  32.0  3.0   4000.0    13.0      Dual SIM        6.26          9.0  \n",
       "4  32.0  4.0   3950.0    13.0  Triple Slots        5.70         10.0  "
      ]
     },
     "execution_count": 121,
     "metadata": {},
     "output_type": "execute_result"
    }
   ],
   "source": [
    "Phone_less_than_avearage.head()"
   ]
  },
  {
   "cell_type": "code",
   "execution_count": 134,
   "metadata": {},
   "outputs": [
    {
     "name": "stdout",
     "output_type": "stream",
     "text": [
      "<class 'pandas.core.frame.DataFrame'>\n",
      "Int64Index: 159 entries, 8 to 507\n",
      "Data columns (total 14 columns):\n",
      " #   Column          Non-Null Count  Dtype  \n",
      "---  ------          --------------  -----  \n",
      " 0   brand           159 non-null    object \n",
      " 1   current_price   159 non-null    int64  \n",
      " 2   old_price       159 non-null    int64  \n",
      " 3   discount        159 non-null    int64  \n",
      " 4   description     159 non-null    object \n",
      " 5   ratings         159 non-null    float64\n",
      " 6   times_reviewed  159 non-null    int64  \n",
      " 7   rom             159 non-null    float64\n",
      " 8   ram             159 non-null    float64\n",
      " 9   battery         159 non-null    float64\n",
      " 10  camera          159 non-null    float64\n",
      " 11  sim port        159 non-null    object \n",
      " 12  screen_dim      159 non-null    float64\n",
      " 13  android_ver     159 non-null    float64\n",
      "dtypes: float64(7), int64(4), object(3)\n",
      "memory usage: 18.6+ KB\n"
     ]
    }
   ],
   "source": [
    " Phone_less_than_avearage[Phone_less_than_avearage.ratings > 4.30].info()"
   ]
  },
  {
   "cell_type": "code",
   "execution_count": 135,
   "metadata": {},
   "outputs": [],
   "source": [
    "Above_Average_fourpoitthirtyup = Phone_less_than_avearage[Phone_less_than_avearage.ratings > 4.30]"
   ]
  },
  {
   "cell_type": "code",
   "execution_count": 142,
   "metadata": {},
   "outputs": [
    {
     "data": {
      "text/plain": [
       "8        Nokia\n",
       "9        Nokia\n",
       "10       Nokia\n",
       "14     Samsung\n",
       "18     Samsung\n",
       "        ...   \n",
       "500     XIAOMI\n",
       "503     XIAOMI\n",
       "504     XIAOMI\n",
       "506       Itel\n",
       "507       Itel\n",
       "Name: brand, Length: 159, dtype: object"
      ]
     },
     "execution_count": 142,
     "metadata": {},
     "output_type": "execute_result"
    }
   ],
   "source": [
    "Above_Average_fourpoitthirtyup.brand"
   ]
  },
  {
   "cell_type": "code",
   "execution_count": null,
   "metadata": {},
   "outputs": [],
   "source": []
  }
 ],
 "metadata": {
  "kernelspec": {
   "display_name": "Python 3",
   "language": "python",
   "name": "python3"
  },
  "language_info": {
   "codemirror_mode": {
    "name": "ipython",
    "version": 3
   },
   "file_extension": ".py",
   "mimetype": "text/x-python",
   "name": "python",
   "nbconvert_exporter": "python",
   "pygments_lexer": "ipython3",
   "version": "3.8.5"
  }
 },
 "nbformat": 4,
 "nbformat_minor": 4
}
